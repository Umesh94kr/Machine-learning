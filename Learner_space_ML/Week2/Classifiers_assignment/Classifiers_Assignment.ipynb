{
  "cells": [
    {
      "cell_type": "markdown",
      "metadata": {
        "id": "HJM8Y9mh5o4H"
      },
      "source": [
        "#WELCOME\n",
        "In this Assignment, you'll use **Classifier** to predict the output. You are allowed to write/edit between the\n",
        "```# START CODE HERE``` & ```# END CODE HERE``` only.<br>\n",
        "Don't edit the test cells otherwise you'd be failed in the assignment.\n",
        "\n",
        "Upload the ```utils.zip``` file before running the 1st cell.\n",
        "[Demo](https://drive.google.com/file/d/1ebkQR6ikjGottmxa5KL83ZWdjTLvRxbm/view?usp=share_link)\n",
        "\n",
        "**BEST OF LUCK**"
      ]
    },
    {
      "cell_type": "markdown",
      "metadata": {
        "id": "cEl-4aFCkdsB"
      },
      "source": [
        "**RUN THIS CODE TO UNIZP THE REQUIRED FILES**"
      ]
    },
    {
      "cell_type": "code",
      "execution_count": 4,
      "metadata": {
        "id": "mCdV1dV8kawl"
      },
      "outputs": [
        {
          "name": "stdout",
          "output_type": "stream",
          "text": [
            "Archive:  /Users/umesh/Desktop/Week2 ML assignments/utils.zip\n",
            "  inflating: ./weather_classification_data.csv  \n",
            "  inflating: ./data_scaled_labeled_check.csv  \n"
          ]
        }
      ],
      "source": [
        "!unzip -j /Users/umesh/Desktop/\"Week2 ML assignments\"/utils.zip -d."
      ]
    },
    {
      "cell_type": "markdown",
      "metadata": {
        "id": "VA4ZUSGu0Ox3"
      },
      "source": [
        "# Dataset Loading and Pre-Processing"
      ]
    },
    {
      "cell_type": "code",
      "execution_count": 6,
      "metadata": {
        "id": "_tP5JsNsqBsI"
      },
      "outputs": [],
      "source": [
        "import pandas as pd\n",
        "data = pd.read_csv(\"weather_classification_data.csv\")"
      ]
    },
    {
      "cell_type": "markdown",
      "metadata": {
        "id": "MBHkfY1c0gO6"
      },
      "source": [
        "## Data Info\n",
        "```data.info``` gives info about data-types and number of null objects.  \n",
        "There are no null data, no need to remove any."
      ]
    },
    {
      "cell_type": "code",
      "execution_count": 7,
      "metadata": {
        "id": "O-myJ9LmqG8J"
      },
      "outputs": [
        {
          "name": "stdout",
          "output_type": "stream",
          "text": [
            "<class 'pandas.core.frame.DataFrame'>\n",
            "RangeIndex: 13200 entries, 0 to 13199\n",
            "Data columns (total 11 columns):\n",
            " #   Column                Non-Null Count  Dtype  \n",
            "---  ------                --------------  -----  \n",
            " 0   Temperature           13200 non-null  float64\n",
            " 1   Humidity              13200 non-null  int64  \n",
            " 2   Wind Speed            13200 non-null  float64\n",
            " 3   Precipitation (%)     13200 non-null  float64\n",
            " 4   Cloud Cover           13200 non-null  object \n",
            " 5   Atmospheric Pressure  13200 non-null  float64\n",
            " 6   UV Index              13200 non-null  int64  \n",
            " 7   Season                13200 non-null  object \n",
            " 8   Visibility (km)       13200 non-null  float64\n",
            " 9   Location              13200 non-null  object \n",
            " 10  Weather Type          13200 non-null  object \n",
            "dtypes: float64(5), int64(2), object(4)\n",
            "memory usage: 1.1+ MB\n"
          ]
        }
      ],
      "source": [
        "data.info()"
      ]
    },
    {
      "cell_type": "markdown",
      "metadata": {
        "id": "98kT9K8a1LF9"
      },
      "source": [
        "## Data Shuffling\n",
        "Data Shuffling removes any bias present and creates uniform distribution."
      ]
    },
    {
      "cell_type": "code",
      "execution_count": 8,
      "metadata": {
        "id": "DJ6bkcTbz8kP"
      },
      "outputs": [
        {
          "data": {
            "text/html": [
              "<div>\n",
              "<style scoped>\n",
              "    .dataframe tbody tr th:only-of-type {\n",
              "        vertical-align: middle;\n",
              "    }\n",
              "\n",
              "    .dataframe tbody tr th {\n",
              "        vertical-align: top;\n",
              "    }\n",
              "\n",
              "    .dataframe thead th {\n",
              "        text-align: right;\n",
              "    }\n",
              "</style>\n",
              "<table border=\"1\" class=\"dataframe\">\n",
              "  <thead>\n",
              "    <tr style=\"text-align: right;\">\n",
              "      <th></th>\n",
              "      <th>Temperature</th>\n",
              "      <th>Humidity</th>\n",
              "      <th>Wind Speed</th>\n",
              "      <th>Precipitation (%)</th>\n",
              "      <th>Cloud Cover</th>\n",
              "      <th>Atmospheric Pressure</th>\n",
              "      <th>UV Index</th>\n",
              "      <th>Season</th>\n",
              "      <th>Visibility (km)</th>\n",
              "      <th>Location</th>\n",
              "      <th>Weather Type</th>\n",
              "    </tr>\n",
              "  </thead>\n",
              "  <tbody>\n",
              "    <tr>\n",
              "      <th>2246</th>\n",
              "      <td>19.0</td>\n",
              "      <td>71</td>\n",
              "      <td>3.5</td>\n",
              "      <td>35.0</td>\n",
              "      <td>overcast</td>\n",
              "      <td>1010.93</td>\n",
              "      <td>3</td>\n",
              "      <td>Spring</td>\n",
              "      <td>6.0</td>\n",
              "      <td>inland</td>\n",
              "      <td>Cloudy</td>\n",
              "    </tr>\n",
              "    <tr>\n",
              "      <th>606</th>\n",
              "      <td>29.0</td>\n",
              "      <td>46</td>\n",
              "      <td>6.0</td>\n",
              "      <td>9.0</td>\n",
              "      <td>clear</td>\n",
              "      <td>1014.94</td>\n",
              "      <td>5</td>\n",
              "      <td>Spring</td>\n",
              "      <td>6.5</td>\n",
              "      <td>inland</td>\n",
              "      <td>Sunny</td>\n",
              "    </tr>\n",
              "    <tr>\n",
              "      <th>11564</th>\n",
              "      <td>-9.0</td>\n",
              "      <td>81</td>\n",
              "      <td>10.5</td>\n",
              "      <td>91.0</td>\n",
              "      <td>overcast</td>\n",
              "      <td>991.28</td>\n",
              "      <td>0</td>\n",
              "      <td>Winter</td>\n",
              "      <td>2.0</td>\n",
              "      <td>mountain</td>\n",
              "      <td>Snowy</td>\n",
              "    </tr>\n",
              "    <tr>\n",
              "      <th>6201</th>\n",
              "      <td>-5.0</td>\n",
              "      <td>81</td>\n",
              "      <td>7.0</td>\n",
              "      <td>50.0</td>\n",
              "      <td>overcast</td>\n",
              "      <td>987.60</td>\n",
              "      <td>0</td>\n",
              "      <td>Winter</td>\n",
              "      <td>3.5</td>\n",
              "      <td>mountain</td>\n",
              "      <td>Snowy</td>\n",
              "    </tr>\n",
              "    <tr>\n",
              "      <th>4649</th>\n",
              "      <td>40.0</td>\n",
              "      <td>38</td>\n",
              "      <td>3.5</td>\n",
              "      <td>4.0</td>\n",
              "      <td>clear</td>\n",
              "      <td>1018.19</td>\n",
              "      <td>9</td>\n",
              "      <td>Autumn</td>\n",
              "      <td>8.5</td>\n",
              "      <td>inland</td>\n",
              "      <td>Sunny</td>\n",
              "    </tr>\n",
              "  </tbody>\n",
              "</table>\n",
              "</div>"
            ],
            "text/plain": [
              "       Temperature  Humidity  Wind Speed  Precipitation (%) Cloud Cover  \\\n",
              "2246          19.0        71         3.5               35.0    overcast   \n",
              "606           29.0        46         6.0                9.0       clear   \n",
              "11564         -9.0        81        10.5               91.0    overcast   \n",
              "6201          -5.0        81         7.0               50.0    overcast   \n",
              "4649          40.0        38         3.5                4.0       clear   \n",
              "\n",
              "       Atmospheric Pressure  UV Index  Season  Visibility (km)  Location  \\\n",
              "2246                1010.93         3  Spring              6.0    inland   \n",
              "606                 1014.94         5  Spring              6.5    inland   \n",
              "11564                991.28         0  Winter              2.0  mountain   \n",
              "6201                 987.60         0  Winter              3.5  mountain   \n",
              "4649                1018.19         9  Autumn              8.5    inland   \n",
              "\n",
              "      Weather Type  \n",
              "2246        Cloudy  \n",
              "606          Sunny  \n",
              "11564        Snowy  \n",
              "6201         Snowy  \n",
              "4649         Sunny  "
            ]
          },
          "execution_count": 8,
          "metadata": {},
          "output_type": "execute_result"
        }
      ],
      "source": [
        "from sklearn.utils import shuffle\n",
        "data = shuffle(data)\n",
        "data.head()"
      ]
    },
    {
      "cell_type": "markdown",
      "metadata": {
        "id": "7vKEzz9j19WQ"
      },
      "source": [
        "## Scaling and Labeling\n",
        "Machine can't understand string so all the object datatypes need to be LABELED with integers.<br><br>\n",
        "Why SCALING?<br>\n",
        "You might have noticed one column contains data with large values (of order 1000) whereas some column contain small value data (of order 10). As a result, large value columns get more power/importance than others. To remove this disparity we scaled them to same order/values."
      ]
    },
    {
      "cell_type": "markdown",
      "metadata": {
        "id": "TBg-lPJgzM4Y"
      },
      "source": [
        "**CODE**\n",
        "\n",
        "We need to find the columns with object datatypes.\n",
        "\n",
        "HINT: Use ```data.select_dtypes().columns.tolist()```<br>Reference: [w3schools](https://www.w3schools.com/python/pandas/ref_df_select_dtypes.asp#:~:text=The%20select_dtypes()%20method%20returns,the%20specified%20dtype(s).&text=Note%3A%20You%20must%20specify%20at,you%20will%20get%20an%20error.)"
      ]
    },
    {
      "cell_type": "code",
      "execution_count": 9,
      "metadata": {
        "id": "cIIKd53NpRKU"
      },
      "outputs": [
        {
          "name": "stdout",
          "output_type": "stream",
          "text": [
            "Object Columns: ['Cloud Cover', 'Season', 'Location', 'Weather Type']\n",
            "Non Object Columns: ['Temperature', 'Humidity', 'Wind Speed', 'Precipitation (%)', 'Atmospheric Pressure', 'UV Index', 'Visibility (km)']\n"
          ]
        }
      ],
      "source": [
        "# START CODE HERE\n",
        "object_columns = data.select_dtypes(include='object').columns.tolist()\n",
        "non_object_columns = data.select_dtypes(include=['int64', 'float64']).columns.tolist()\n",
        "# END CODE HERE\n",
        "print(f\"Object Columns: {object_columns}\\nNon Object Columns: {non_object_columns}\")"
      ]
    },
    {
      "cell_type": "markdown",
      "metadata": {
        "id": "KYlrJpdaAyKH"
      },
      "source": [
        "**TEST** (DON'T EDIT THIS CELL)"
      ]
    },
    {
      "cell_type": "code",
      "execution_count": 10,
      "metadata": {
        "id": "z4-pWLR5_fVf"
      },
      "outputs": [
        {
          "name": "stdout",
          "output_type": "stream",
          "text": [
            "\u001b[32mTest Passed\u001b[0m\n"
          ]
        }
      ],
      "source": [
        "# DON'T EDIT THIS CELL\n",
        "if (object_columns == ['Cloud Cover', 'Season', 'Location', 'Weather Type'] and non_object_columns == ['Temperature', 'Humidity', 'Wind Speed', 'Precipitation (%)', 'Atmospheric Pressure', 'UV Index', 'Visibility (km)']):\n",
        "  print(f\"\\033[32mTest Passed\\033[0m\")\n",
        "else:\n",
        "  print(f\"\\033[31mTest Failed\\033[0m\")"
      ]
    },
    {
      "cell_type": "markdown",
      "metadata": {
        "id": "reVHprk6z_nD"
      },
      "source": [
        "**CODE**\n",
        "\n",
        "We need to convert the object-type columns data into integral labels and scale the non-object-type columns data.\n",
        "\n",
        "HINT: Use ```ColumnTransformer()```<br>Reference: [scikit-learn](https://scikit-learn.org/stable/modules/generated/sklearn.compose.ColumnTransformer.html), [ChatGPT](https://chatgpt.com/c/7f3c1b02-5da0-4c34-bdb2-d999dccb9c2f)"
      ]
    },
    {
      "cell_type": "code",
      "execution_count": 26,
      "metadata": {
        "id": "kVT5qfqarRhF"
      },
      "outputs": [],
      "source": [
        "from sklearn.preprocessing import OrdinalEncoder, StandardScaler\n",
        "from sklearn.compose import ColumnTransformer\n",
        "\n",
        "# START CODE HERE\n",
        "\n",
        "column_transformer = ColumnTransformer(\n",
        "    [\n",
        "        ('cat', OrdinalEncoder(), object_columns),\n",
        "        ('num', StandardScaler(), non_object_columns)\n",
        "    ]\n",
        ")\n",
        "\n",
        "# Fit and transform the data\n",
        "data_scaled_labeled = column_transformer.fit_transform(data)\n",
        "\n",
        "# END CODE HERE\n",
        "\n",
        "all_columns = object_columns + non_object_columns\n",
        "\n",
        "# Create the new DataFrame\n",
        "data_scaled_labeled = pd.DataFrame(data_scaled_labeled, columns=all_columns)"
      ]
    },
    {
      "cell_type": "markdown",
      "metadata": {
        "id": "2AvKGjfJk3cY"
      },
      "source": [
        "**TEST** (DON'T EDIT THIS CELL)"
      ]
    },
    {
      "cell_type": "code",
      "execution_count": 27,
      "metadata": {
        "id": "7mT4H6o5D-mN"
      },
      "outputs": [
        {
          "name": "stdout",
          "output_type": "stream",
          "text": [
            "\u001b[32mTest Passed\u001b[0m\n"
          ]
        }
      ],
      "source": [
        "# DON'T EDIT THIS CELL\n",
        "\n",
        "data_scaled_labeled_check = pd.read_csv(\"data_scaled_labeled_check.csv\")\n",
        "import numpy as np\n",
        "data_scaled_labeled_values = np.sort(data_scaled_labeled.values,axis=0)\n",
        "data_scaled_labeled_check_values = np.sort(data_scaled_labeled_check.values,axis=0)\n",
        "if np.allclose(data_scaled_labeled_values, data_scaled_labeled_check_values, equal_nan=True):\n",
        "  print(f\"\\033[32mTest Passed\\033[0m\")\n",
        "else:\n",
        "  print(f\"\\033[31mTest Failed\\033[0m\")"
      ]
    },
    {
      "cell_type": "markdown",
      "metadata": {
        "id": "wpIxEziM2EYr"
      },
      "source": [
        "## Data Splitting"
      ]
    },
    {
      "cell_type": "markdown",
      "metadata": {
        "id": "GKCxivFq1rjB"
      },
      "source": [
        "**CODE**\n",
        "\n",
        "We need to drop the Weather Type column from data_scaled_labeled to get the X and pick Weather Type column to get Y\n",
        "\n",
        "Use 90-10 split of data, i.e. 90% for training, 10% for testing"
      ]
    },
    {
      "cell_type": "code",
      "execution_count": 30,
      "metadata": {
        "id": "e-gDICS-mZYG"
      },
      "outputs": [],
      "source": [
        "X = data_scaled_labeled.drop(columns=['Weather Type'])\n",
        "y = data_scaled_labeled['Weather Type']\n",
        "\n",
        "from sklearn.model_selection import train_test_split\n",
        "\n",
        "X_train, X_test, y_train, y_test = train_test_split(X, y, train_size = 0.9, random_state = 10)"
      ]
    },
    {
      "cell_type": "markdown",
      "metadata": {
        "id": "WjR9MqGMpJ82"
      },
      "source": [
        "**TEST** (DON'T EDIT THIS CELL)"
      ]
    },
    {
      "cell_type": "code",
      "execution_count": 31,
      "metadata": {
        "id": "q5ZtYcaxKzFK"
      },
      "outputs": [
        {
          "name": "stdout",
          "output_type": "stream",
          "text": [
            "\u001b[32mTest Passed\u001b[0m\n",
            "\u001b[32mTest Passed\u001b[0m\n"
          ]
        }
      ],
      "source": [
        "# DON'T EDIT THIS CELL\n",
        "\n",
        "if (len(X_train)==11880 and len(X_test)==1320):\n",
        "  print(f\"\\033[32mTest Passed\\033[0m\")\n",
        "else:\n",
        "  print(f\"\\033[31mTest Failed\\033[0m\")\n",
        "\n",
        "if (len(y_train)==11880 and len(y_test)==1320):\n",
        "  print(f\"\\033[32mTest Passed\\033[0m\")\n",
        "else:\n",
        "  print(f\"\\033[31mTest Failed\\033[0m\")"
      ]
    },
    {
      "cell_type": "code",
      "execution_count": 32,
      "metadata": {
        "id": "uwYLbRwPzNBd"
      },
      "outputs": [
        {
          "data": {
            "text/html": [
              "<div>\n",
              "<style scoped>\n",
              "    .dataframe tbody tr th:only-of-type {\n",
              "        vertical-align: middle;\n",
              "    }\n",
              "\n",
              "    .dataframe tbody tr th {\n",
              "        vertical-align: top;\n",
              "    }\n",
              "\n",
              "    .dataframe thead th {\n",
              "        text-align: right;\n",
              "    }\n",
              "</style>\n",
              "<table border=\"1\" class=\"dataframe\">\n",
              "  <thead>\n",
              "    <tr style=\"text-align: right;\">\n",
              "      <th></th>\n",
              "      <th>Cloud Cover</th>\n",
              "      <th>Season</th>\n",
              "      <th>Location</th>\n",
              "      <th>Temperature</th>\n",
              "      <th>Humidity</th>\n",
              "      <th>Wind Speed</th>\n",
              "      <th>Precipitation (%)</th>\n",
              "      <th>Atmospheric Pressure</th>\n",
              "      <th>UV Index</th>\n",
              "      <th>Visibility (km)</th>\n",
              "    </tr>\n",
              "  </thead>\n",
              "  <tbody>\n",
              "    <tr>\n",
              "      <th>7017</th>\n",
              "      <td>0.0</td>\n",
              "      <td>1.0</td>\n",
              "      <td>0.0</td>\n",
              "      <td>2.408445</td>\n",
              "      <td>0.757134</td>\n",
              "      <td>-0.482337</td>\n",
              "      <td>1.138057</td>\n",
              "      <td>0.553309</td>\n",
              "      <td>2.332257</td>\n",
              "      <td>-0.285616</td>\n",
              "    </tr>\n",
              "    <tr>\n",
              "      <th>12278</th>\n",
              "      <td>2.0</td>\n",
              "      <td>3.0</td>\n",
              "      <td>2.0</td>\n",
              "      <td>-1.675379</td>\n",
              "      <td>1.202822</td>\n",
              "      <td>1.471794</td>\n",
              "      <td>0.230256</td>\n",
              "      <td>-0.355875</td>\n",
              "      <td>-1.038715</td>\n",
              "      <td>-1.027154</td>\n",
              "    </tr>\n",
              "    <tr>\n",
              "      <th>2859</th>\n",
              "      <td>2.0</td>\n",
              "      <td>0.0</td>\n",
              "      <td>0.0</td>\n",
              "      <td>-0.179894</td>\n",
              "      <td>-0.431369</td>\n",
              "      <td>1.399419</td>\n",
              "      <td>0.918933</td>\n",
              "      <td>0.023982</td>\n",
              "      <td>-0.260799</td>\n",
              "      <td>-1.323769</td>\n",
              "    </tr>\n",
              "    <tr>\n",
              "      <th>5495</th>\n",
              "      <td>2.0</td>\n",
              "      <td>2.0</td>\n",
              "      <td>2.0</td>\n",
              "      <td>-0.064857</td>\n",
              "      <td>1.202822</td>\n",
              "      <td>1.109918</td>\n",
              "      <td>-0.020172</td>\n",
              "      <td>0.163774</td>\n",
              "      <td>-0.779410</td>\n",
              "      <td>-1.027154</td>\n",
              "    </tr>\n",
              "    <tr>\n",
              "      <th>8469</th>\n",
              "      <td>2.0</td>\n",
              "      <td>2.0</td>\n",
              "      <td>2.0</td>\n",
              "      <td>-0.064857</td>\n",
              "      <td>0.014320</td>\n",
              "      <td>0.530916</td>\n",
              "      <td>-0.333207</td>\n",
              "      <td>-0.062850</td>\n",
              "      <td>-0.001493</td>\n",
              "      <td>0.604230</td>\n",
              "    </tr>\n",
              "  </tbody>\n",
              "</table>\n",
              "</div>"
            ],
            "text/plain": [
              "       Cloud Cover  Season  Location  Temperature  Humidity  Wind Speed  \\\n",
              "7017           0.0     1.0       0.0     2.408445  0.757134   -0.482337   \n",
              "12278          2.0     3.0       2.0    -1.675379  1.202822    1.471794   \n",
              "2859           2.0     0.0       0.0    -0.179894 -0.431369    1.399419   \n",
              "5495           2.0     2.0       2.0    -0.064857  1.202822    1.109918   \n",
              "8469           2.0     2.0       2.0    -0.064857  0.014320    0.530916   \n",
              "\n",
              "       Precipitation (%)  Atmospheric Pressure  UV Index  Visibility (km)  \n",
              "7017            1.138057              0.553309  2.332257        -0.285616  \n",
              "12278           0.230256             -0.355875 -1.038715        -1.027154  \n",
              "2859            0.918933              0.023982 -0.260799        -1.323769  \n",
              "5495           -0.020172              0.163774 -0.779410        -1.027154  \n",
              "8469           -0.333207             -0.062850 -0.001493         0.604230  "
            ]
          },
          "execution_count": 32,
          "metadata": {},
          "output_type": "execute_result"
        }
      ],
      "source": [
        "X_train.head()"
      ]
    },
    {
      "cell_type": "markdown",
      "metadata": {
        "id": "upeKo2UVs8WH"
      },
      "source": [
        "# Training and Testing\n",
        "Use any suitable classifier to fit the training data and check the accuracy on test data\n",
        "\n",
        "Don't forget to import that library"
      ]
    },
    {
      "cell_type": "markdown",
      "metadata": {
        "id": "amPA5lMY3adM"
      },
      "source": [
        "**CODE**\n",
        "\n",
        "ACCURACY should be more than 90%,\n",
        "\n",
        "1. Fit the model to X_train and y_train\n",
        "2. Find the model score on X_test and y_test"
      ]
    },
    {
      "cell_type": "code",
      "execution_count": 33,
      "metadata": {
        "id": "yei6MWgW0Si9"
      },
      "outputs": [
        {
          "name": "stdout",
          "output_type": "stream",
          "text": [
            "Accuracy: 90.30303030303031\n"
          ]
        }
      ],
      "source": [
        "# START CODE HERE\n",
        "\n",
        "from sklearn import svm\n",
        "\n",
        "model = svm.SVC()\n",
        "model.fit(X_train, y_train)\n",
        "score = model.score(X_test,y_test)\n",
        "\n",
        "# END CODE HERE\n",
        "\n",
        "print(\"Accuracy:\", score*100)"
      ]
    },
    {
      "cell_type": "markdown",
      "metadata": {
        "id": "gv0LHa5FuDSU"
      },
      "source": [
        "**TEST** (DON'T EDIT THIS CELL)"
      ]
    },
    {
      "cell_type": "code",
      "execution_count": 34,
      "metadata": {
        "id": "WYopYL5MuAam"
      },
      "outputs": [
        {
          "name": "stdout",
          "output_type": "stream",
          "text": [
            "\u001b[32mTest Passed\u001b[0m\n"
          ]
        }
      ],
      "source": [
        "# DON'T EDIT THIS CELL\n",
        "\n",
        "if (score>0.90):\n",
        "  print(f\"\\033[32mTest Passed\\033[0m\")\n",
        "else:\n",
        "  print(f\"\\033[31mTest Failed\\033[0m\")"
      ]
    },
    {
      "cell_type": "markdown",
      "metadata": {
        "id": "pOnUEVEsuQlA"
      },
      "source": [
        "# Predicting Output (Here, Weather Type) (Optional)"
      ]
    },
    {
      "cell_type": "code",
      "execution_count": 35,
      "metadata": {
        "id": "oAvmODuFwDNl"
      },
      "outputs": [
        {
          "data": {
            "text/html": [
              "<div>\n",
              "<style scoped>\n",
              "    .dataframe tbody tr th:only-of-type {\n",
              "        vertical-align: middle;\n",
              "    }\n",
              "\n",
              "    .dataframe tbody tr th {\n",
              "        vertical-align: top;\n",
              "    }\n",
              "\n",
              "    .dataframe thead th {\n",
              "        text-align: right;\n",
              "    }\n",
              "</style>\n",
              "<table border=\"1\" class=\"dataframe\">\n",
              "  <thead>\n",
              "    <tr style=\"text-align: right;\">\n",
              "      <th></th>\n",
              "      <th>Cloud Cover</th>\n",
              "      <th>Season</th>\n",
              "      <th>Location</th>\n",
              "      <th>Temperature</th>\n",
              "      <th>Humidity</th>\n",
              "      <th>Wind Speed</th>\n",
              "      <th>Precipitation (%)</th>\n",
              "      <th>Atmospheric Pressure</th>\n",
              "      <th>UV Index</th>\n",
              "      <th>Visibility (km)</th>\n",
              "    </tr>\n",
              "  </thead>\n",
              "  <tbody>\n",
              "    <tr>\n",
              "      <th>11923</th>\n",
              "      <td>3.0</td>\n",
              "      <td>2.0</td>\n",
              "      <td>2.0</td>\n",
              "      <td>5.054302</td>\n",
              "      <td>1.896115</td>\n",
              "      <td>0.748042</td>\n",
              "      <td>0.918933</td>\n",
              "      <td>0.246574</td>\n",
              "      <td>1.813646</td>\n",
              "      <td>0.455922</td>\n",
              "    </tr>\n",
              "    <tr>\n",
              "      <th>2331</th>\n",
              "      <td>3.0</td>\n",
              "      <td>2.0</td>\n",
              "      <td>1.0</td>\n",
              "      <td>-0.352450</td>\n",
              "      <td>-0.629452</td>\n",
              "      <td>-0.916588</td>\n",
              "      <td>-1.209704</td>\n",
              "      <td>-0.090002</td>\n",
              "      <td>-0.520104</td>\n",
              "      <td>0.455922</td>\n",
              "    </tr>\n",
              "    <tr>\n",
              "      <th>217</th>\n",
              "      <td>3.0</td>\n",
              "      <td>2.0</td>\n",
              "      <td>1.0</td>\n",
              "      <td>-0.467487</td>\n",
              "      <td>1.252343</td>\n",
              "      <td>-0.048086</td>\n",
              "      <td>0.731112</td>\n",
              "      <td>0.207862</td>\n",
              "      <td>-1.038715</td>\n",
              "      <td>-0.730539</td>\n",
              "    </tr>\n",
              "    <tr>\n",
              "      <th>1760</th>\n",
              "      <td>0.0</td>\n",
              "      <td>1.0</td>\n",
              "      <td>1.0</td>\n",
              "      <td>0.797923</td>\n",
              "      <td>-1.273224</td>\n",
              "      <td>-1.278464</td>\n",
              "      <td>-1.178401</td>\n",
              "      <td>0.506533</td>\n",
              "      <td>0.776424</td>\n",
              "      <td>-0.137308</td>\n",
              "    </tr>\n",
              "    <tr>\n",
              "      <th>3963</th>\n",
              "      <td>3.0</td>\n",
              "      <td>2.0</td>\n",
              "      <td>1.0</td>\n",
              "      <td>-0.179894</td>\n",
              "      <td>0.460008</td>\n",
              "      <td>-0.699463</td>\n",
              "      <td>-0.427117</td>\n",
              "      <td>0.342815</td>\n",
              "      <td>-0.260799</td>\n",
              "      <td>0.604230</td>\n",
              "    </tr>\n",
              "  </tbody>\n",
              "</table>\n",
              "</div>"
            ],
            "text/plain": [
              "       Cloud Cover  Season  Location  Temperature  Humidity  Wind Speed  \\\n",
              "11923          3.0     2.0       2.0     5.054302  1.896115    0.748042   \n",
              "2331           3.0     2.0       1.0    -0.352450 -0.629452   -0.916588   \n",
              "217            3.0     2.0       1.0    -0.467487  1.252343   -0.048086   \n",
              "1760           0.0     1.0       1.0     0.797923 -1.273224   -1.278464   \n",
              "3963           3.0     2.0       1.0    -0.179894  0.460008   -0.699463   \n",
              "\n",
              "       Precipitation (%)  Atmospheric Pressure  UV Index  Visibility (km)  \n",
              "11923           0.918933              0.246574  1.813646         0.455922  \n",
              "2331           -1.209704             -0.090002 -0.520104         0.455922  \n",
              "217             0.731112              0.207862 -1.038715        -0.730539  \n",
              "1760           -1.178401              0.506533  0.776424        -0.137308  \n",
              "3963           -0.427117              0.342815 -0.260799         0.604230  "
            ]
          },
          "execution_count": 35,
          "metadata": {},
          "output_type": "execute_result"
        }
      ],
      "source": [
        "input = X_test.head()\n",
        "input"
      ]
    },
    {
      "cell_type": "code",
      "execution_count": 36,
      "metadata": {
        "id": "jZAkEyqUONIc"
      },
      "outputs": [
        {
          "data": {
            "text/plain": [
              "array([3., 0., 1., 3., 0.])"
            ]
          },
          "execution_count": 36,
          "metadata": {},
          "output_type": "execute_result"
        }
      ],
      "source": [
        "y = model.predict(input)\n",
        "y"
      ]
    },
    {
      "cell_type": "markdown",
      "metadata": {
        "id": "zuNM1UNPyY7p"
      },
      "source": [
        "Here, the outputs are in numbers. We can perform inverse column transfer for getiing the string values.\n"
      ]
    }
  ],
  "metadata": {
    "colab": {
      "provenance": []
    },
    "kernelspec": {
      "display_name": "Python 3",
      "name": "python3"
    },
    "language_info": {
      "codemirror_mode": {
        "name": "ipython",
        "version": 3
      },
      "file_extension": ".py",
      "mimetype": "text/x-python",
      "name": "python",
      "nbconvert_exporter": "python",
      "pygments_lexer": "ipython3",
      "version": "3.11.3"
    }
  },
  "nbformat": 4,
  "nbformat_minor": 0
}
